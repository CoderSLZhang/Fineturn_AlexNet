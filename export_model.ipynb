{
 "cells": [
  {
   "cell_type": "code",
   "execution_count": 26,
   "metadata": {},
   "outputs": [],
   "source": [
    "import tensorflow as tf\n",
    "from alexnet import AlexNet\n",
    "import os"
   ]
  },
  {
   "cell_type": "code",
   "execution_count": 27,
   "metadata": {
    "collapsed": true
   },
   "outputs": [],
   "source": [
    "IMAGE_SAHPE = (68, 68)\n",
    "VARS_SAVE_PATH = './save'\n",
    "EXPORT_DIR = './export'"
   ]
  },
  {
   "cell_type": "code",
   "execution_count": 28,
   "metadata": {},
   "outputs": [],
   "source": [
    "tf.reset_default_graph()\n",
    "alexnet = AlexNet(image_shape=(IMAGE_SAHPE[0], IMAGE_SAHPE[1], 3), \n",
    "                      classes_num=6, freeze_layer_indexes=(1, 2, 3, 4, 5, 7, 8))"
   ]
  },
  {
   "cell_type": "code",
   "execution_count": 24,
   "metadata": {},
   "outputs": [
    {
     "name": "stdout",
     "output_type": "stream",
     "text": [
      "Found and verified ./alexnet_weights.npy\n",
      "INFO:tensorflow:Restoring parameters from ./save/alexnet_train_vars\n",
      "INFO:tensorflow:No assets to save.\n",
      "INFO:tensorflow:No assets to write.\n",
      "INFO:tensorflow:SavedModel written to: b'./export/saved_model.pb'\n"
     ]
    },
    {
     "data": {
      "text/plain": [
       "b'./export/saved_model.pb'"
      ]
     },
     "execution_count": 24,
     "metadata": {},
     "output_type": "execute_result"
    }
   ],
   "source": [
    "init_op = tf.global_variables_initializer()\n",
    "\n",
    "builder = tf.saved_model.builder.SavedModelBuilder(EXPORT_DIR)\n",
    "\n",
    "with tf.Session() as sess:\n",
    "    sess.run(init_op)\n",
    "    alexnet.load_imagenet_weights(sess, skip_layer_indexes=(8, 7, 6))\n",
    "    saver = tf.train.Saver(tf.trainable_variables())\n",
    "    saver.restore(sess, os.path.join(VARS_SAVE_PATH, 'alexnet_train_vars'))\n",
    "    \n",
    "    builder.add_meta_graph_and_variables(sess,['alexnet'])\n",
    "    \n",
    "builder.save()"
   ]
  }
 ],
 "metadata": {
  "kernelspec": {
   "display_name": "Python 3",
   "language": "python",
   "name": "python3"
  },
  "language_info": {
   "codemirror_mode": {
    "name": "ipython",
    "version": 3
   },
   "file_extension": ".py",
   "mimetype": "text/x-python",
   "name": "python",
   "nbconvert_exporter": "python",
   "pygments_lexer": "ipython3",
   "version": "3.6.3"
  }
 },
 "nbformat": 4,
 "nbformat_minor": 2
}
